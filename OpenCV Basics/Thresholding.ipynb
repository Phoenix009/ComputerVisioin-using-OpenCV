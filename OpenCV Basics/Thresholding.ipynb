{
 "cells": [
  {
   "cell_type": "code",
   "execution_count": 1,
   "metadata": {},
   "outputs": [],
   "source": [
    "import numpy as np\n",
    "import cv2"
   ]
  },
  {
   "cell_type": "code",
   "execution_count": 2,
   "metadata": {},
   "outputs": [],
   "source": [
    "image = cv2.imread(\"bookpage.jpg\")"
   ]
  },
  {
   "cell_type": "code",
   "execution_count": 3,
   "metadata": {},
   "outputs": [],
   "source": [
    "cv2.imshow(\"image\", image)\n",
    "\n",
    "retval, threshold = cv2.threshold(image, 12,  255, cv2.THRESH_BINARY) \n",
    "cv2.imshow(\"image Threshold\", threshold)\n",
    "cv2.waitKey()\n",
    "cv2.destroyAllWindows()"
   ]
  },
  {
   "cell_type": "code",
   "execution_count": 4,
   "metadata": {},
   "outputs": [],
   "source": [
    "grayImage = cv2.cvtColor(image, cv2.COLOR_BGR2GRAY)\n",
    "retval, threshold2 = cv2.threshold(src = grayImage,\n",
    "                                  thresh = 12,\n",
    "                                  maxval = 255,\n",
    "                                  type = cv2.THRESH_BINARY)\n",
    "cv2.imshow(\"grayImage Threshold\", threshold2)\n",
    "cv2.waitKey()\n",
    "cv2.destroyAllWindows()"
   ]
  },
  {
   "cell_type": "code",
   "execution_count": 5,
   "metadata": {},
   "outputs": [],
   "source": [
    "gauss = cv2.adaptiveThreshold(src = grayImage,\n",
    "                            maxValue = 255,\n",
    "                            adaptiveMethod = cv2.ADAPTIVE_THRESH_GAUSSIAN_C,\n",
    "                            thresholdType = cv2.THRESH_BINARY,\n",
    "                            blockSize = 115,\n",
    "                            C = 1)\n",
    "cv2.imshow(\"Gauss Adapptive Thresholding\", gauss)\n",
    "cv2.waitKey()\n",
    "cv2.destroyAllWindows()"
   ]
  },
  {
   "cell_type": "code",
   "execution_count": 9,
   "metadata": {},
   "outputs": [],
   "source": [
    "retval2, thresh_OTSU = cv2.threshold(src = grayImage,\n",
    "                                    thresh = 130,\n",
    "                                    maxval = 255,\n",
    "                                    type = cv2.THRESH_BINARY + cv2.THRESH_OTSU)\n",
    "cv2.imshow(\"image Threshold OTSU\", thresh_OTSU)\n",
    "cv2.waitKey()\n",
    "cv2.destroyAllWindows()"
   ]
  }
 ],
 "metadata": {
  "kernelspec": {
   "display_name": "Python 3",
   "language": "python",
   "name": "python3"
  },
  "language_info": {
   "codemirror_mode": {
    "name": "ipython",
    "version": 3
   },
   "file_extension": ".py",
   "mimetype": "text/x-python",
   "name": "python",
   "nbconvert_exporter": "python",
   "pygments_lexer": "ipython3",
   "version": "3.6.6"
  }
 },
 "nbformat": 4,
 "nbformat_minor": 2
}
