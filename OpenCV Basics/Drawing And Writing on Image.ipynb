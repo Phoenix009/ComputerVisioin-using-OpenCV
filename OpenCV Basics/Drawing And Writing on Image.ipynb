{
 "cells": [
  {
   "cell_type": "code",
   "execution_count": 1,
   "metadata": {},
   "outputs": [],
   "source": [
    "import numpy as np\n",
    "import cv2"
   ]
  },
  {
   "cell_type": "code",
   "execution_count": 2,
   "metadata": {},
   "outputs": [],
   "source": [
    "image = cv2.imread(\"Jupiter.jpg\")"
   ]
  },
  {
   "cell_type": "code",
   "execution_count": 3,
   "metadata": {},
   "outputs": [],
   "source": [
    "cv2.imshow(\"Image\", image)\n",
    "cv2.waitKey()\n",
    "cv2.destroyAllWindows()"
   ]
  },
  {
   "cell_type": "code",
   "execution_count": 4,
   "metadata": {},
   "outputs": [],
   "source": [
    "cv2.line(img = image, \n",
    "         pt1 = (0, 0), pt2 = (100, 100), \n",
    "         color = (255, 255, 255), \n",
    "         thickness = 5)\n",
    "\n",
    "cv2.imshow(\"Image\", image)\n",
    "cv2.waitKey()\n",
    "cv2.destroyAllWindows()"
   ]
  },
  {
   "cell_type": "code",
   "execution_count": 5,
   "metadata": {},
   "outputs": [],
   "source": [
    "cv2.rectangle(img = image, \n",
    "              pt1 = (0, 0), pt2 = (200, 150), \n",
    "              color = (0,255,0), \n",
    "              thickness = 5)\n",
    "\n",
    "cv2.imshow(\"Image\", image)\n",
    "cv2.waitKey()\n",
    "cv2.destroyAllWindows()"
   ]
  },
  {
   "cell_type": "code",
   "execution_count": 6,
   "metadata": {},
   "outputs": [],
   "source": [
    "cv2.circle(img = image, \n",
    "           center = (250, 150), \n",
    "           radius = 30, \n",
    "           color = (0, 0, 255), \n",
    "           thickness = 3)\n",
    "\n",
    "cv2.imshow(\"Image\", image)\n",
    "cv2.waitKey()\n",
    "cv2.destroyAllWindows()"
   ]
  },
  {
   "cell_type": "code",
   "execution_count": 7,
   "metadata": {},
   "outputs": [],
   "source": [
    "pts = np.array([[50, 50], [100, 50], [50, 100], [100, 100]])\n",
    "\n",
    "cv2.polylines(img = image, \n",
    "              pts = [pts], \n",
    "              isClosed = True, \n",
    "              color = (255, 255, 0), \n",
    "              thickness = 5)\n",
    "\n",
    "cv2.imshow(\"Image\", image)\n",
    "cv2.waitKey()\n",
    "cv2.destroyAllWindows()"
   ]
  },
  {
   "cell_type": "code",
   "execution_count": 8,
   "metadata": {},
   "outputs": [],
   "source": [
    "cv2.putText(img = image, \n",
    "            text = \"OpenCV\", \n",
    "            org = (30, 150), \n",
    "            fontFace = cv2.FONT_HERSHEY_SIMPLEX, \n",
    "            fontScale = 1,\n",
    "            color = (0, 255, 255),\n",
    "            thickness = 2,\n",
    "            lineType = cv2.LINE_AA\n",
    "           )\n",
    "cv2.imshow(\"Image\", image)\n",
    "cv2.waitKey()\n",
    "cv2.destroyAllWindows()"
   ]
  }
 ],
 "metadata": {
  "kernelspec": {
   "display_name": "Python 3",
   "language": "python",
   "name": "python3"
  },
  "language_info": {
   "codemirror_mode": {
    "name": "ipython",
    "version": 3
   },
   "file_extension": ".py",
   "mimetype": "text/x-python",
   "name": "python",
   "nbconvert_exporter": "python",
   "pygments_lexer": "ipython3",
   "version": "3.6.6"
  }
 },
 "nbformat": 4,
 "nbformat_minor": 2
}
