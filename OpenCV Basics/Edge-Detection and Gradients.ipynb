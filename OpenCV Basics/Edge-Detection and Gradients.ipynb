{
 "cells": [
  {
   "cell_type": "code",
   "execution_count": 1,
   "metadata": {},
   "outputs": [],
   "source": [
    "import numpy as np\n",
    "import cv2"
   ]
  },
  {
   "cell_type": "code",
   "execution_count": 3,
   "metadata": {},
   "outputs": [],
   "source": [
    "cap = cv2.VideoCapture(0)\n",
    "\n",
    "while(True):\n",
    "    ret, frame = cap.read()\n",
    "        \n",
    "    laplacian = cv2.Laplacian(frame, cv2.CV_64F)\n",
    "    sobelx = cv2.Sobel(frame, cv2.CV_64F, 1, 0, ksize = 5)\n",
    "    sobely = cv2.Sobel(frame, cv2.CV_64F, 0, 1, ksize = 5)\n",
    "    edges = cv2.Canny(frame, 100, 200)\n",
    "    \n",
    "    cv2.imshow(\"Original\", frame)\n",
    "    cv2.imshow(\"Laplacian\", laplacian)\n",
    "    cv2.imshow(\"sobelx\", sobelx)\n",
    "    cv2.imshow(\"sobely\", sobely)\n",
    "    cv2.imshow(\"Edges\", edges)\n",
    "    \n",
    "    \n",
    "    \n",
    "    \n",
    "    if(cv2.waitKey(1) & 0xFF == ord(\"q\")):\n",
    "        break\n",
    "        \n",
    "        \n",
    "cv2.destroyAllWindows()\n",
    "cap.release()"
   ]
  },
  {
   "cell_type": "code",
   "execution_count": 4,
   "metadata": {},
   "outputs": [],
   "source": [
    "tetris = cv2.imread(\"tetris_blocks.png\")\n",
    "edges = cv2.Canny(tetris, 50, 50)\n",
    "cv2.imshow(\"Edges\", edges)\n",
    "cv2.waitKey()\n",
    "cv2.destroyAllWindows()"
   ]
  }
 ],
 "metadata": {
  "kernelspec": {
   "display_name": "Python 3",
   "language": "python",
   "name": "python3"
  },
  "language_info": {
   "codemirror_mode": {
    "name": "ipython",
    "version": 3
   },
   "file_extension": ".py",
   "mimetype": "text/x-python",
   "name": "python",
   "nbconvert_exporter": "python",
   "pygments_lexer": "ipython3",
   "version": "3.6.6"
  }
 },
 "nbformat": 4,
 "nbformat_minor": 2
}
