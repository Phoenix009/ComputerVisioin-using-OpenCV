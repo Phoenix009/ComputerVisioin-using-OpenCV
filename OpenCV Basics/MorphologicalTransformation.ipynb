{
 "cells": [
  {
   "cell_type": "code",
   "execution_count": 1,
   "metadata": {},
   "outputs": [],
   "source": [
    "import numpy as np\n",
    "import cv2"
   ]
  },
  {
   "cell_type": "code",
   "execution_count": 2,
   "metadata": {},
   "outputs": [],
   "source": [
    "cap = cv2.VideoCapture(0)\n",
    "\n",
    "while(True):\n",
    "    ret, frame = cap.read()\n",
    "    hsv = cv2.cvtColor(frame, cv2.COLOR_BGR2HSV)  #Hue, Saturation, Value\n",
    "    cv2.imshow(\"BGR FRAME\", frame)\n",
    "    cv2.imshow(\"HSV FRAME\", hsv)\n",
    "    \n",
    "    if(cv2.waitKey(1) & 0xFF == ord(\"q\")):\n",
    "        break\n",
    "cv2.destroyAllWindows()\n",
    "cap.release()"
   ]
  },
  {
   "cell_type": "code",
   "execution_count": 10,
   "metadata": {},
   "outputs": [],
   "source": [
    "cap = cv2.VideoCapture(0)\n",
    "\n",
    "while(True):\n",
    "    ret, frame = cap.read()\n",
    "    hsv = cv2.cvtColor(frame, cv2.COLOR_BGR2HSV)  #Hue, Saturation, Value\n",
    "    \n",
    "    \"\"\"Filtering\"\"\"\n",
    "    #only keeps blue color\n",
    "    lower_blue = np.array([50, 125, 125])\n",
    "    upper_blue = np.array([255, 255, 255])\n",
    "    \n",
    "    mask = cv2.inRange(src = hsv,\n",
    "                      lowerb = lower_blue,\n",
    "                      upperb = upper_blue)\n",
    "    res = cv2.bitwise_and(frame, frame, mask = mask)\n",
    "    kernel = np.ones((5, 5), np.uint8)\n",
    "    erosion = cv2.erode(mask, kernel, iterations = 1)\n",
    "    dilation = cv2.dilate(mask, kernel, iterations = 1)\n",
    "    \n",
    "    #opening removes flase positives\n",
    "    #closing removes false negatives\n",
    "    opening = cv2.morphologyEx(mask, cv2.MORPH_OPEN, kernel)\n",
    "    closing = cv2.morphologyEx(mask, cv2.MORPH_CLOSE, kernel)    \n",
    "    \n",
    "#     cv2.imshow(\"BGR FRAME\", frame)\n",
    "#     cv2.imshow(\"res\", res)\n",
    "    cv2.imshow(\"erosion\", erosion)\n",
    "    cv2.imshow(\"dilation\", dilation)\n",
    "    cv2.imshow(\"opening\", opening)\n",
    "    cv2.imshow(\"closing\", closing)\n",
    "    \n",
    "    \n",
    "    if(cv2.waitKey(1) & 0xFF == ord(\"q\")):\n",
    "        break\n",
    "        \n",
    "        \n",
    "cv2.destroyAllWindows()\n",
    "cap.release()"
   ]
  }
 ],
 "metadata": {
  "kernelspec": {
   "display_name": "Python 3",
   "language": "python",
   "name": "python3"
  },
  "language_info": {
   "codemirror_mode": {
    "name": "ipython",
    "version": 3
   },
   "file_extension": ".py",
   "mimetype": "text/x-python",
   "name": "python",
   "nbconvert_exporter": "python",
   "pygments_lexer": "ipython3",
   "version": "3.6.6"
  }
 },
 "nbformat": 4,
 "nbformat_minor": 2
}
