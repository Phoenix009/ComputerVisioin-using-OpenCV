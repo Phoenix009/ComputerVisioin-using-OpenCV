{
 "cells": [
  {
   "cell_type": "code",
   "execution_count": 1,
   "metadata": {},
   "outputs": [],
   "source": [
    "import numpy as np\n",
    "import cv2"
   ]
  },
  {
   "cell_type": "code",
   "execution_count": 2,
   "metadata": {},
   "outputs": [],
   "source": [
    "cap = cv2.VideoCapture(0)\n",
    "\n",
    "while(True):\n",
    "    ret, frame = cap.read()\n",
    "    hsv = cv2.cvtColor(frame, cv2.COLOR_BGR2HSV)  #Hue, Saturation, Value\n",
    "    cv2.imshow(\"BGR FRAME\", frame)\n",
    "    cv2.imshow(\"HSV FRAME\", hsv)\n",
    "    \n",
    "    if(cv2.waitKey(1) & 0xFF == ord(\"q\")):\n",
    "        break\n",
    "cv2.destroyAllWindows()\n",
    "cap.release()"
   ]
  },
  {
   "cell_type": "code",
   "execution_count": 11,
   "metadata": {},
   "outputs": [],
   "source": [
    "cap = cv2.VideoCapture(0)\n",
    "\n",
    "while(True):\n",
    "    ret, frame = cap.read()\n",
    "    hsv = cv2.cvtColor(frame, cv2.COLOR_BGR2HSV)  #Hue, Saturation, Value\n",
    "#   cv2.imshow(\"HSV FRAME\", hsv)\n",
    "    \n",
    "    #in HSV the hue component is responsible for the\n",
    "    #color in the image so for filtering we will adjust\n",
    "    #the hue [hue, sat, value]\n",
    "    \n",
    "    #Adjust these for filtering\n",
    "    lower_blue = np.array([150, 150, 50])\n",
    "    upper_blue = np.array([180, 255, 150])\n",
    "    \n",
    "    mask = cv2.inRange(src = hsv,\n",
    "                      lowerb = lower_blue,\n",
    "                      upperb = upper_blue)\n",
    "    \n",
    "    res = cv2.bitwise_and(frame, frame, mask = mask)\n",
    "    \n",
    "    cv2.imshow(\"BGR FRAME\", frame)\n",
    "    cv2.imshow(\"mask\", mask)\n",
    "    cv2.imshow(\"res\", res)\n",
    "\n",
    "    \n",
    "    if(cv2.waitKey(1) & 0xFF == ord(\"q\")):\n",
    "        break\n",
    "        \n",
    "        \n",
    "cv2.destroyAllWindows()\n",
    "cap.release()"
   ]
  },
  {
   "cell_type": "code",
   "execution_count": null,
   "metadata": {},
   "outputs": [],
   "source": []
  }
 ],
 "metadata": {
  "kernelspec": {
   "display_name": "Python 3",
   "language": "python",
   "name": "python3"
  },
  "language_info": {
   "codemirror_mode": {
    "name": "ipython",
    "version": 3
   },
   "file_extension": ".py",
   "mimetype": "text/x-python",
   "name": "python",
   "nbconvert_exporter": "python",
   "pygments_lexer": "ipython3",
   "version": "3.6.6"
  }
 },
 "nbformat": 4,
 "nbformat_minor": 2
}
